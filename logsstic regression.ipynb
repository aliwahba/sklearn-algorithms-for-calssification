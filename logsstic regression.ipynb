{
 "cells": [
  {
   "cell_type": "code",
   "execution_count": 14,
   "metadata": {},
   "outputs": [],
   "source": [
    "from sklearn.datasets import load_iris\n",
    "import pandas as pd\n",
    "irisdata = load_iris()\n",
    "X = irisdata['data']\n",
    "y= irisdata['target']\n"
   ]
  },
  {
   "cell_type": "code",
   "execution_count": 12,
   "metadata": {},
   "outputs": [],
   "source": [
    "from sklearn.model_selection import train_test_split\n",
    "X_train,X_test,y_train,y_test = train_test_split(X , y,test_size=.2,random_state=33)"
   ]
  },
  {
   "cell_type": "code",
   "execution_count": 30,
   "metadata": {},
   "outputs": [
    {
     "name": "stderr",
     "output_type": "stream",
     "text": [
      "D:\\Anacoda33\\lib\\site-packages\\sklearn\\linear_model\\logistic.py:469: FutureWarning: Default multi_class will be changed to 'auto' in 0.22. Specify the multi_class option to silence this warning.\n",
      "  \"this warning.\", FutureWarning)\n"
     ]
    },
    {
     "data": {
      "text/plain": [
       "LogisticRegression(C=1.0, class_weight=None, dual=False, fit_intercept=True,\n",
       "                   intercept_scaling=1, l1_ratio=None, max_iter=100,\n",
       "                   multi_class='warn', n_jobs=None, penalty='l2',\n",
       "                   random_state=None, solver='liblinear', tol=0.0001, verbose=0,\n",
       "                   warm_start=False)"
      ]
     },
     "execution_count": 30,
     "metadata": {},
     "output_type": "execute_result"
    }
   ],
   "source": [
    "from sklearn.linear_model import LogisticRegression \n",
    "LogisticRegressionModel = LogisticRegression(penalty='l2' , max_iter=100,solver='liblinear')\n",
    "LogisticRegressionModel.fit(X_train,y_train)"
   ]
  },
  {
   "cell_type": "code",
   "execution_count": 31,
   "metadata": {},
   "outputs": [
    {
     "name": "stdout",
     "output_type": "stream",
     "text": [
      "LogisticRegressionModel coefs [[ 0.39636532  1.39829099 -2.18241804 -0.95063365]\n",
      " [ 0.20892515 -1.38586825  0.71273914 -1.40173958]\n",
      " [-1.54013364 -1.3928189   2.24432279  2.24528364]]\n",
      "LogisticRegressionModel class [0 1 2]\n",
      "LogisticRegressionModel Itertions [7]\n"
     ]
    }
   ],
   "source": [
    "print(\"LogisticRegressionModel coefs\",LogisticRegressionModel.coef_)\n",
    "print(\"LogisticRegressionModel class\",LogisticRegressionModel.classes_)\n",
    "print(\"LogisticRegressionModel Itertions\",LogisticRegressionModel.n_iter_)"
   ]
  },
  {
   "cell_type": "code",
   "execution_count": 33,
   "metadata": {},
   "outputs": [
    {
     "name": "stdout",
     "output_type": "stream",
     "text": [
      "y predicted values [1 1 0 1 2]\n",
      "y test values [1 1 0 1 2]\n",
      "the probablity of values [[3.62783962e-02 6.86360503e-01 2.77361100e-01]\n",
      " [5.22316489e-02 8.24024765e-01 1.23743586e-01]\n",
      " [8.23232150e-01 1.76642835e-01 1.25015036e-04]\n",
      " [1.28820958e-02 6.96390239e-01 2.90727665e-01]\n",
      " [4.56893037e-04 4.66624110e-01 5.32918997e-01]]\n"
     ]
    }
   ],
   "source": [
    "y_predicted= LogisticRegressionModel.predict(X_test)\n",
    "print(\"y predicted values\",y_predicted[:5])\n",
    "print(\"y test values\",y_test[:5])\n",
    "y_predicted_proba = LogisticRegressionModel.predict_proba(X_test)\n",
    "print(\"the probablity of values\",y_predicted_proba[:5])"
   ]
  },
  {
   "cell_type": "code",
   "execution_count": 34,
   "metadata": {},
   "outputs": [
    {
     "data": {
      "text/plain": [
       "array([[ 8,  0,  0],\n",
       "       [ 0,  8,  0],\n",
       "       [ 0,  0, 14]], dtype=int64)"
      ]
     },
     "execution_count": 34,
     "metadata": {},
     "output_type": "execute_result"
    }
   ],
   "source": [
    "from sklearn.metrics import accuracy_score,confusion_matrix\n",
    "confusion_matrix(y_test,y_predicted)"
   ]
  },
  {
   "cell_type": "code",
   "execution_count": 35,
   "metadata": {},
   "outputs": [
    {
     "data": {
      "text/plain": [
       "1.0"
      ]
     },
     "execution_count": 35,
     "metadata": {},
     "output_type": "execute_result"
    }
   ],
   "source": [
    "accuracy_score(y_predicted,y_test)"
   ]
  },
  {
   "cell_type": "code",
   "execution_count": null,
   "metadata": {},
   "outputs": [],
   "source": []
  }
 ],
 "metadata": {
  "kernelspec": {
   "display_name": "Python 3",
   "language": "python",
   "name": "python3"
  },
  "language_info": {
   "codemirror_mode": {
    "name": "ipython",
    "version": 3
   },
   "file_extension": ".py",
   "mimetype": "text/x-python",
   "name": "python",
   "nbconvert_exporter": "python",
   "pygments_lexer": "ipython3",
   "version": "3.7.4"
  }
 },
 "nbformat": 4,
 "nbformat_minor": 2
}

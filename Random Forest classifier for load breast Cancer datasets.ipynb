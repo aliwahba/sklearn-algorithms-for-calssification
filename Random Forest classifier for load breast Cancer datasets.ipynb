{
 "cells": [
  {
   "cell_type": "code",
   "execution_count": 1,
   "metadata": {},
   "outputs": [],
   "source": [
    "from sklearn.datasets import load_breast_cancer\n",
    "from sklearn.ensemble import RandomForestClassifier\n",
    "from sklearn.model_selection import train_test_split"
   ]
  },
  {
   "cell_type": "markdown",
   "metadata": {},
   "source": [
    "# LOad Data"
   ]
  },
  {
   "cell_type": "code",
   "execution_count": 4,
   "metadata": {},
   "outputs": [],
   "source": [
    "data= load_breast_cancer()\n",
    "X= data.data\n",
    "y= data.target"
   ]
  },
  {
   "cell_type": "markdown",
   "metadata": {},
   "source": [
    "# Train and test split data"
   ]
  },
  {
   "cell_type": "code",
   "execution_count": 17,
   "metadata": {},
   "outputs": [],
   "source": [
    "X_train,X_test,y_train,y_test= train_test_split(X,y,test_size=0.3,random_state=42,shuffle=True)"
   ]
  },
  {
   "cell_type": "markdown",
   "metadata": {},
   "source": [
    "select the model and fit it"
   ]
  },
  {
   "cell_type": "code",
   "execution_count": 72,
   "metadata": {},
   "outputs": [
    {
     "data": {
      "text/plain": [
       "\"\\nRandomForestClassifier(n_estimators='warn’, criterion=’gini’, max_depth=None,\\n                                min_samples_split=2, min_samples_leaf=1,min_weight_fraction_leaf=0.0,\\n                                max_features='auto’,max_leaf_nodes=None,min_impurity_decrease=0.0,\\n                                min_impurity_split=None, bootstrap=True,oob_score=False, n_jobs=None,\\n                                random_state=None, verbose=0,warm_start=False, class_weight=None)\\n\""
      ]
     },
     "execution_count": 72,
     "metadata": {},
     "output_type": "execute_result"
    }
   ],
   "source": [
    "'''\n",
    "RandomForestClassifier(n_estimators='warn’, criterion=’gini’, max_depth=None,\n",
    "                                min_samples_split=2, min_samples_leaf=1,min_weight_fraction_leaf=0.0,\n",
    "                                max_features='auto’,max_leaf_nodes=None,min_impurity_decrease=0.0,\n",
    "                                min_impurity_split=None, bootstrap=True,oob_score=False, n_jobs=None,\n",
    "                                random_state=None, verbose=0,warm_start=False, class_weight=None)\n",
    "'''\n"
   ]
  },
  {
   "cell_type": "code",
   "execution_count": 36,
   "metadata": {},
   "outputs": [
    {
     "name": "stdout",
     "output_type": "stream",
     "text": [
      "RandomForestClassifier(bootstrap=True, class_weight=None, criterion='gini',\n",
      "                       max_depth=8, max_features='auto', max_leaf_nodes=None,\n",
      "                       min_impurity_decrease=0.0, min_impurity_split=None,\n",
      "                       min_samples_leaf=1, min_samples_split=2,\n",
      "                       min_weight_fraction_leaf=0.0, n_estimators=100,\n",
      "                       n_jobs=None, oob_score=False, random_state=42, verbose=0,\n",
      "                       warm_start=False)\n"
     ]
    }
   ],
   "source": [
    "RandomForestClassifierModel = RandomForestClassifier(criterion='gini',n_estimators=100,max_depth=8,random_state=42)\n",
    "print(RandomForestClassifierModel.fit(X_train,y_train))"
   ]
  },
  {
   "cell_type": "markdown",
   "metadata": {},
   "source": [
    "# Details fro the model"
   ]
  },
  {
   "cell_type": "code",
   "execution_count": 44,
   "metadata": {},
   "outputs": [
    {
     "name": "stdout",
     "output_type": "stream",
     "text": [
      "RandomForestClassifierModel score fro train 1.0\n",
      "RandomForestClassifierModel score fro test 0.9707602339181286\n",
      "feature importances \n",
      " [0.03319575 0.01900353 0.04802253 0.0444073  0.00727091 0.01034057\n",
      " 0.07807596 0.13464101 0.00369445 0.0049938  0.01504948 0.00401826\n",
      " 0.01313011 0.02405202 0.00547915 0.00792423 0.00601575 0.00597165\n",
      " 0.00655931 0.00792438 0.06746857 0.0289705  0.08506027 0.11046137\n",
      " 0.0099078  0.01570231 0.04810603 0.13021748 0.01877665 0.00555885]\n"
     ]
    }
   ],
   "source": [
    "print(\"RandomForestClassifierModel score fro train\",RandomForestClassifierModel.score(X_train,y_train))\n",
    "print(\"RandomForestClassifierModel score fro test\",RandomForestClassifierModel.score(X_test,y_test))\n",
    "print(\"feature importances \\n\",RandomForestClassifierModel.feature_importances_)\n",
    "#print(\"featurs names\",data.feature_names)"
   ]
  },
  {
   "cell_type": "markdown",
   "metadata": {},
   "source": [
    "compear between y predited and y actual(test)"
   ]
  },
  {
   "cell_type": "code",
   "execution_count": 67,
   "metadata": {},
   "outputs": [
    {
     "name": "stdout",
     "output_type": "stream",
     "text": [
      "y predicted values [1 0 0 1 1]\n",
      "y actual values [1 0 0 1 1]\n"
     ]
    }
   ],
   "source": [
    "y_predicted = RandomForestClassifierModel.predict(X_test)\n",
    "print(\"y predicted values\",y_predicted[:5])\n",
    "print(\"y actual values\",y_test[:5])\n",
    "y_probablity= RandomForestClassifierModel.predict_proba #the probablity for each Class\n",
    "#print(y_probablity)"
   ]
  },
  {
   "cell_type": "markdown",
   "metadata": {},
   "source": [
    "Metrics fro the model "
   ]
  },
  {
   "cell_type": "code",
   "execution_count": 68,
   "metadata": {},
   "outputs": [
    {
     "name": "stdout",
     "output_type": "stream",
     "text": [
      "confusion matrix\n",
      " [[ 59   1]\n",
      " [  4 107]]\n",
      "accuracy score 0.9707602339181286\n"
     ]
    }
   ],
   "source": [
    "from sklearn.metrics import confusion_matrix,accuracy_score\n",
    "print(\"confusion matrix\\n\",confusion_matrix(y_predicted,y_test))\n",
    "print(\"accuracy score\",accuracy_score(y_predicted,y_test))"
   ]
  },
  {
   "cell_type": "markdown",
   "metadata": {},
   "source": [
    "# Draw Confusion Matrix"
   ]
  },
  {
   "cell_type": "code",
   "execution_count": 70,
   "metadata": {},
   "outputs": [
    {
     "data": {
      "image/png": "[encoded data removed]",
      "text/plain": [
       "<Figure size 432x288 with 2 Axes>"
      ]
     },
     "metadata": {
      "needs_background": "light"
     },
     "output_type": "display_data"
    }
   ],
   "source": [
    "from seaborn import *\n",
    "import matplotlib.pyplot as plt\n",
    "heatmap(confusion_matrix(y_predicted,y_test),center=True)\n",
    "plt.show()"
   ]
  },
  {
   "cell_type": "code",
   "execution_count": null,
   "metadata": {},
   "outputs": [],
   "source": []
  }
 ],
 "metadata": {
  "kernelspec": {
   "display_name": "Python 3",
   "language": "python",
   "name": "python3"
  },
  "language_info": {
   "codemirror_mode": {
    "name": "ipython",
    "version": 3
   },
   "file_extension": ".py",
   "mimetype": "text/x-python",
   "name": "python",
   "nbconvert_exporter": "python",
   "pygments_lexer": "ipython3",
   "version": "3.7.4"
  }
 },
 "nbformat": 4,
 "nbformat_minor": 2
}

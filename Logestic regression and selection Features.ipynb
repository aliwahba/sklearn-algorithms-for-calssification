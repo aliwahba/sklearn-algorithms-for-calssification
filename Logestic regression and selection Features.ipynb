{
 "cells": [
  {
   "cell_type": "code",
   "execution_count": 1,
   "metadata": {},
   "outputs": [],
   "source": [
    "from sklearn.datasets import load_breast_cancer\n",
    "from sklearn.linear_model import LogisticRegression\n",
    "from sklearn.metrics import accuracy_score, confusion_matrix\n",
    "from sklearn.model_selection import train_test_split\n",
    "from sklearn.feature_selection import SelectPercentile ,f_classif , chi2 \n"
   ]
  },
  {
   "cell_type": "code",
   "execution_count": 5,
   "metadata": {},
   "outputs": [],
   "source": [
    "breast_cancer_data= load_breast_cancer()\n",
    "X= breast_cancer_data['data']\n",
    "y=breast_cancer_data['target']"
   ]
  },
  {
   "cell_type": "code",
   "execution_count": 20,
   "metadata": {},
   "outputs": [
    {
     "name": "stdout",
     "output_type": "stream",
     "text": [
      "accuarcy =  0.9298245614035088\n",
      "confusion matrix \n",
      " [[38  5]\n",
      " [ 3 68]]\n",
      "accuarcy =  0.9649122807017544\n",
      "confusion matrix \n",
      " [[45  2]\n",
      " [ 2 65]]\n",
      "accuarcy =  0.9473684210526315\n",
      "confusion matrix \n",
      " [[42  3]\n",
      " [ 3 66]]\n",
      "accuarcy =  0.9473684210526315\n",
      "confusion matrix \n",
      " [[41  3]\n",
      " [ 3 67]]\n",
      "accuarcy =  0.9736842105263158\n",
      "confusion matrix \n",
      " [[39  1]\n",
      " [ 2 72]]\n",
      "accuarcy =  0.9385964912280702\n",
      "confusion matrix \n",
      " [[40  3]\n",
      " [ 4 67]]\n",
      "accuarcy =  0.9473684210526315\n",
      "confusion matrix \n",
      " [[39  4]\n",
      " [ 2 69]]\n",
      "accuarcy =  0.956140350877193\n",
      "confusion matrix \n",
      " [[41  3]\n",
      " [ 2 68]]\n",
      "accuarcy =  0.9385964912280702\n",
      "confusion matrix \n",
      " [[37  6]\n",
      " [ 1 70]]\n"
     ]
    },
    {
     "name": "stderr",
     "output_type": "stream",
     "text": [
      "D:\\Anacoda33\\lib\\site-packages\\sklearn\\linear_model\\logistic.py:432: FutureWarning: Default solver will be changed to 'lbfgs' in 0.22. Specify a solver to silence this warning.\n",
      "  FutureWarning)\n",
      "D:\\Anacoda33\\lib\\site-packages\\sklearn\\linear_model\\logistic.py:432: FutureWarning: Default solver will be changed to 'lbfgs' in 0.22. Specify a solver to silence this warning.\n",
      "  FutureWarning)\n",
      "D:\\Anacoda33\\lib\\site-packages\\sklearn\\linear_model\\logistic.py:432: FutureWarning: Default solver will be changed to 'lbfgs' in 0.22. Specify a solver to silence this warning.\n",
      "  FutureWarning)\n",
      "D:\\Anacoda33\\lib\\site-packages\\sklearn\\linear_model\\logistic.py:432: FutureWarning: Default solver will be changed to 'lbfgs' in 0.22. Specify a solver to silence this warning.\n",
      "  FutureWarning)\n",
      "D:\\Anacoda33\\lib\\site-packages\\sklearn\\linear_model\\logistic.py:432: FutureWarning: Default solver will be changed to 'lbfgs' in 0.22. Specify a solver to silence this warning.\n",
      "  FutureWarning)\n",
      "D:\\Anacoda33\\lib\\site-packages\\sklearn\\linear_model\\logistic.py:432: FutureWarning: Default solver will be changed to 'lbfgs' in 0.22. Specify a solver to silence this warning.\n",
      "  FutureWarning)\n",
      "D:\\Anacoda33\\lib\\site-packages\\sklearn\\linear_model\\logistic.py:432: FutureWarning: Default solver will be changed to 'lbfgs' in 0.22. Specify a solver to silence this warning.\n",
      "  FutureWarning)\n",
      "D:\\Anacoda33\\lib\\site-packages\\sklearn\\linear_model\\logistic.py:432: FutureWarning: Default solver will be changed to 'lbfgs' in 0.22. Specify a solver to silence this warning.\n",
      "  FutureWarning)\n",
      "D:\\Anacoda33\\lib\\site-packages\\sklearn\\linear_model\\logistic.py:432: FutureWarning: Default solver will be changed to 'lbfgs' in 0.22. Specify a solver to silence this warning.\n",
      "  FutureWarning)\n"
     ]
    }
   ],
   "source": [
    "for j in range(10,100,10):\n",
    "    \n",
    "    sel = SelectPercentile(score_func = chi2 , percentile = j)\n",
    "  #  sel = SelectPercentile(score_func = chi2 , percentile = j)\n",
    "   # sel = SelectPercentile(score_func = chi2 , percentile = j)\n",
    "   # sel = SelectPercentile(score_func = chi2, percentile = j)\n",
    "   # sel = SelectPercentile(score_func = f_classif , percentile = j)\n",
    "    sel.fit(X,y)\n",
    "    selected_features = sel.transform(X)\n",
    "    x_train, x_test, y_train, y_test = train_test_split(selected_features, y, test_size = 0.2)\n",
    "    logreg = LogisticRegression()\n",
    "    logreg.fit(x_train , y_train)\n",
    "    result= logreg.predict(x_test)\n",
    "    print('accuarcy = ',accuracy_score(y_test , result))\n",
    "    conf = confusion_matrix(y_test , result)\n",
    "    print('confusion matrix \\n',  conf)\n"
   ]
  },
  {
   "cell_type": "code",
   "execution_count": 40,
   "metadata": {},
   "outputs": [
    {
     "data": {
      "text/plain": [
       "SelectPercentile(percentile=30,\n",
       "                 score_func=<function chi2 at 0x00000000095EF1F8>)"
      ]
     },
     "execution_count": 40,
     "metadata": {},
     "output_type": "execute_result"
    }
   ],
   "source": [
    "#sel = SelectPercentile(score_func = chi2 , percentile = 10)\n",
    "#sel = SelectPercentile(score_func = chi2 , percentile = 20)\n",
    "sel = SelectPercentile(score_func = chi2 , percentile = 30)\n",
    "#sel = SelectPercentile(score_func = chi2, percentile = 40)\n",
    "#sel = SelectPercentile(score_func = f_classif , percentile = 20)\n",
    "sel.fit(X,y)"
   ]
  },
  {
   "cell_type": "code",
   "execution_count": 41,
   "metadata": {},
   "outputs": [],
   "source": [
    "selected_features = sel.transform(X)"
   ]
  },
  {
   "cell_type": "code",
   "execution_count": 42,
   "metadata": {},
   "outputs": [
    {
     "name": "stdout",
     "output_type": "stream",
     "text": [
      "accuarcy =  0.9649122807017544\n",
      "confusion matrix \n",
      " [[40  2]\n",
      " [ 2 70]]\n"
     ]
    },
    {
     "name": "stderr",
     "output_type": "stream",
     "text": [
      "D:\\Anacoda33\\lib\\site-packages\\sklearn\\linear_model\\logistic.py:432: FutureWarning: Default solver will be changed to 'lbfgs' in 0.22. Specify a solver to silence this warning.\n",
      "  FutureWarning)\n"
     ]
    }
   ],
   "source": [
    "x_train, x_test, y_train, y_test = train_test_split(selected_features, y, test_size = 0.2)\n",
    "\n",
    "logreg = LogisticRegression()\n",
    "logreg.fit(x_train , y_train)\n",
    "result= logreg.predict(x_test)\n",
    "print('accuarcy = ',accuracy_score(y_test , result))\n",
    "\n",
    "conf = confusion_matrix(y_test , result)\n",
    "print('confusion matrix \\n',  conf)\n",
    "\n"
   ]
  },
  {
   "cell_type": "code",
   "execution_count": null,
   "metadata": {},
   "outputs": [],
   "source": []
  }
 ],
 "metadata": {
  "kernelspec": {
   "display_name": "Python 3",
   "language": "python",
   "name": "python3"
  },
  "language_info": {
   "codemirror_mode": {
    "name": "ipython",
    "version": 3
   },
   "file_extension": ".py",
   "mimetype": "text/x-python",
   "name": "python",
   "nbconvert_exporter": "python",
   "pygments_lexer": "ipython3",
   "version": "3.7.4"
  }
 },
 "nbformat": 4,
 "nbformat_minor": 2
}

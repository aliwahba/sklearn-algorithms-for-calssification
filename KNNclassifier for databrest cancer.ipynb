{
 "cells": [
  {
   "cell_type": "code",
   "execution_count": 1,
   "metadata": {},
   "outputs": [],
   "source": [
    "from sklearn.datasets import load_breast_cancer\n",
    "from sklearn.model_selection import train_test_split\n",
    "from sklearn.neighbors import KNeighborsClassifier"
   ]
  },
  {
   "cell_type": "code",
   "execution_count": 2,
   "metadata": {},
   "outputs": [],
   "source": [
    "data= load_breast_cancer()\n",
    "X= data['data']\n",
    "y= data['target']"
   ]
  },
  {
   "cell_type": "code",
   "execution_count": 3,
   "metadata": {},
   "outputs": [],
   "source": [
    "X_train,X_test,y_train,y_test= train_test_split(X,y,test_size=0.25,random_state=33,shuffle=True)"
   ]
  },
  {
   "cell_type": "code",
   "execution_count": 4,
   "metadata": {},
   "outputs": [
    {
     "data": {
      "text/plain": [
       "KNeighborsClassifier(algorithm='kd_tree', leaf_size=30, metric='minkowski',\n",
       "                     metric_params=None, n_jobs=None, n_neighbors=15, p=2,\n",
       "                     weights='uniform')"
      ]
     },
     "execution_count": 4,
     "metadata": {},
     "output_type": "execute_result"
    }
   ],
   "source": [
    "NeighborsClassifierModel= KNeighborsClassifier(n_neighbors=15,weights='uniform',algorithm='kd_tree')\n",
    "NeighborsClassifierModel.fit(X_train,y_train)"
   ]
  },
  {
   "cell_type": "code",
   "execution_count": 5,
   "metadata": {},
   "outputs": [
    {
     "name": "stdout",
     "output_type": "stream",
     "text": [
      "score for train 0.9389671361502347\n",
      "score for test 0.9300699300699301\n"
     ]
    }
   ],
   "source": [
    "print(\"score for train\",NeighborsClassifierModel.score(X_train,y_train))\n",
    "print(\"score for test\",NeighborsClassifierModel.score(X_test,y_test))"
   ]
  },
  {
   "cell_type": "code",
   "execution_count": 6,
   "metadata": {},
   "outputs": [
    {
     "name": "stdout",
     "output_type": "stream",
     "text": [
      "predicted values [0 1 1 1 1 0 1 1 1 1 1 0 1 1 1 0 1 1 1 1]\n",
      "Actual Values\t [0 1 1 1 1 1 1 1 1 1 1 0 1 0 1 0 1 1 1 1]\n"
     ]
    }
   ],
   "source": [
    "y_predicted= NeighborsClassifierModel.predict(X_test)\n",
    "print(\"predicted values\",y_predicted[:20])\n",
    "print(\"Actual Values\\t\",y_test[:20])"
   ]
  },
  {
   "cell_type": "code",
   "execution_count": 7,
   "metadata": {},
   "outputs": [
    {
     "name": "stdout",
     "output_type": "stream",
     "text": [
      "cinfusion matrix\n",
      " [[46  8]\n",
      " [ 2 87]]\n"
     ]
    }
   ],
   "source": [
    "from sklearn.metrics import confusion_matrix\n",
    "CM= confusion_matrix(y_test,y_predicted)\n",
    "print(\"cinfusion matrix\\n\",CM)\n"
   ]
  },
  {
   "cell_type": "code",
   "execution_count": 8,
   "metadata": {},
   "outputs": [
    {
     "name": "stdout",
     "output_type": "stream",
     "text": [
      "the numbers of neighbors 2\n",
      "score for test 0.9300699300699301\n",
      "confusion matrix\n",
      " [[46  2]\n",
      " [ 8 87]]\n",
      "**************************************\n",
      "the numbers of neighbors 3\n",
      "score for test 0.9300699300699301\n",
      "confusion matrix\n",
      " [[46  2]\n",
      " [ 8 87]]\n",
      "**************************************\n",
      "the numbers of neighbors 4\n",
      "score for test 0.9300699300699301\n",
      "confusion matrix\n",
      " [[46  2]\n",
      " [ 8 87]]\n",
      "**************************************\n",
      "the numbers of neighbors 5\n",
      "score for test 0.9300699300699301\n",
      "confusion matrix\n",
      " [[46  2]\n",
      " [ 8 87]]\n",
      "**************************************\n",
      "the numbers of neighbors 6\n",
      "score for test 0.9300699300699301\n",
      "confusion matrix\n",
      " [[46  2]\n",
      " [ 8 87]]\n",
      "**************************************\n",
      "the numbers of neighbors 7\n",
      "score for test 0.9300699300699301\n",
      "confusion matrix\n",
      " [[46  2]\n",
      " [ 8 87]]\n",
      "**************************************\n",
      "the numbers of neighbors 8\n",
      "score for test 0.9300699300699301\n",
      "confusion matrix\n",
      " [[46  2]\n",
      " [ 8 87]]\n",
      "**************************************\n",
      "the numbers of neighbors 9\n",
      "score for test 0.9300699300699301\n",
      "confusion matrix\n",
      " [[46  2]\n",
      " [ 8 87]]\n",
      "**************************************\n",
      "the numbers of neighbors 10\n",
      "score for test 0.9300699300699301\n",
      "confusion matrix\n",
      " [[46  2]\n",
      " [ 8 87]]\n",
      "**************************************\n"
     ]
    }
   ],
   "source": [
    "for i in range(2,11):\n",
    "    print('the numbers of neighbors',i)\n",
    "    NeighborsClassifier= KNeighborsClassifier(n_neighbors=i,weights='distance')\n",
    "    NeighborsClassifierModel.fit(X_train,y_train)\n",
    "    print(\"score for test\",NeighborsClassifierModel.score(X_test,y_test))\n",
    "    y_predicted = NeighborsClassifierModel.predict(X_test)\n",
    "    CM= confusion_matrix(y_predicted,y_test)\n",
    "    print('confusion matrix\\n',CM)\n",
    "    print('**************************************')"
   ]
  },
  {
   "cell_type": "code",
   "execution_count": null,
   "metadata": {},
   "outputs": [],
   "source": []
  },
  {
   "cell_type": "code",
   "execution_count": null,
   "metadata": {},
   "outputs": [],
   "source": []
  }
 ],
 "metadata": {
  "kernelspec": {
   "display_name": "Python 3",
   "language": "python",
   "name": "python3"
  },
  "language_info": {
   "codemirror_mode": {
    "name": "ipython",
    "version": 3
   },
   "file_extension": ".py",
   "mimetype": "text/x-python",
   "name": "python",
   "nbconvert_exporter": "python",
   "pygments_lexer": "ipython3",
   "version": "3.7.4"
  }
 },
 "nbformat": 4,
 "nbformat_minor": 2
}
